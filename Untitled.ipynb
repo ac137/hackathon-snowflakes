{
 "cells": [
  {
   "cell_type": "code",
   "execution_count": 1,
   "metadata": {
    "collapsed": false
   },
   "outputs": [
    {
     "name": "stderr",
     "output_type": "stream",
     "text": [
      "C:\\Users\\mary\\Anaconda2\\lib\\site-packages\\IPython\\html.py:14: ShimWarning: The `IPython.html` package has been deprecated. You should import from `notebook` instead. `IPython.html.widgets` has moved to `ipywidgets`.\n",
      "  \"`IPython.html.widgets` has moved to `ipywidgets`.\", ShimWarning)\n"
     ]
    }
   ],
   "source": [
    "from IPython.html.widgets import interact, interactive, fixed\n",
    "from IPython.html import widgets\n",
    "from IPython.display import clear_output, display, HTML"
   ]
  },
  {
   "cell_type": "code",
   "execution_count": 2,
   "metadata": {
    "collapsed": false
   },
   "outputs": [
    {
     "data": {
      "text/html": [
       "<h3>Arguments:</h3><table>\n",
       "<tr><td>Current</td><td>4.99</td></tr>\n",
       "<tr><td>Text</td><td>Type here!</td></tr>\n",
       "<tr><td>z</td><td>True</td></tr>\n",
       "<tr><td>a</td><td>5.0</td></tr>\n",
       "<tr><td>Temp</td><td>5</td></tr>\n",
       "</table>"
      ],
      "text/plain": [
       "<IPython.core.display.HTML object>"
      ]
     },
     "metadata": {},
     "output_type": "display_data"
    }
   ],
   "source": [
    "def show_args(**kwargs):\n",
    "    s = '<h3>Arguments:</h3><table>\\n'\n",
    "    for k,v in kwargs.items():\n",
    "        s += '<tr><td>{0}</td><td>{1}</td></tr>\\n'.format(k,v)\n",
    "    s += '</table>'\n",
    "    display(HTML(s))\n",
    "show_args(a=10, b='Hi There', c=True)\n",
    "i = interact(show_args,\n",
    "         Temp=(0,10),\n",
    "         Current=(0.,10.,0.01),\n",
    "         z=True,\n",
    "         Text=u'Type here!',\n",
    "         #Algorithm=['This','That','Other'],\n",
    "         a=widgets.FloatSlider(min=-10.0, max=10.0, step=0.1, value=5.0, description=\"Float (a)\")\n",
    "         )"
   ]
  },
  {
   "cell_type": "code",
   "execution_count": 3,
   "metadata": {
    "collapsed": false
   },
   "outputs": [
    {
     "data": {
      "text/html": [
       "<h3>Arguments:</h3><table>\n",
       "<tr><td>Current</td><td>4.99</td></tr>\n",
       "<tr><td>Text</td><td>Type here!</td></tr>\n",
       "<tr><td>z</td><td>True</td></tr>\n",
       "<tr><td>a</td><td>5.0</td></tr>\n",
       "<tr><td>Temp</td><td>5</td></tr>\n",
       "</table>"
      ],
      "text/plain": [
       "<IPython.core.display.HTML object>"
      ]
     },
     "metadata": {},
     "output_type": "display_data"
    }
   ],
   "source": [
    "\n",
    "i.widget"
   ]
  },
  {
   "cell_type": "code",
   "execution_count": 4,
   "metadata": {
    "collapsed": true
   },
   "outputs": [],
   "source": [
    "#testing this out:\n",
    "mywidget = widgets.FloatSlider()\n",
    "display(mywidget)"
   ]
  },
  {
   "cell_type": "code",
   "execution_count": 5,
   "metadata": {
    "collapsed": false
   },
   "outputs": [
    {
     "name": "stdout",
     "output_type": "stream",
     "text": [
      "{'x': 0.0}\n"
     ]
    }
   ],
   "source": [
    "#x = mywidget.value\n",
    "def func(**kwargs):\n",
    "    print kwargs\n",
    "j = interact(func, x=mywidget.value)"
   ]
  },
  {
   "cell_type": "code",
   "execution_count": 6,
   "metadata": {
    "collapsed": false
   },
   "outputs": [
    {
     "name": "stderr",
     "output_type": "stream",
     "text": [
      "C:\\Users\\mary\\Anaconda2\\lib\\site-packages\\ipykernel\\__main__.py:7: DeprecationWarning: on_trait_change is deprecated: use observe instead\n"
     ]
    }
   ],
   "source": [
    "int_range = widgets.IntSlider()\n",
    "display(int_range)\n",
    "\n",
    "def on_value_change(name, value):\n",
    "    print(value)\n",
    "\n",
    "int_range.on_trait_change(on_value_change, 'value')"
   ]
  },
  {
   "cell_type": "code",
   "execution_count": null,
   "metadata": {
    "collapsed": true
   },
   "outputs": [],
   "source": []
  }
 ],
 "metadata": {
  "kernelspec": {
   "display_name": "Python [Root]",
   "language": "python",
   "name": "Python [Root]"
  },
  "language_info": {
   "codemirror_mode": {
    "name": "ipython",
    "version": 2
   },
   "file_extension": ".py",
   "mimetype": "text/x-python",
   "name": "python",
   "nbconvert_exporter": "python",
   "pygments_lexer": "ipython2",
   "version": "2.7.12"
  }
 },
 "nbformat": 4,
 "nbformat_minor": 0
}
